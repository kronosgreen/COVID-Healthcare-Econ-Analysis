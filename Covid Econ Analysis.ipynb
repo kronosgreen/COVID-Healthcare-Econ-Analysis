{
 "cells": [
  {
   "cell_type": "code",
   "execution_count": 1,
   "metadata": {},
   "outputs": [],
   "source": [
    "#\n",
    "# Performing Micro-Economic Analysis on Insurance/Health Funding with Regards to COVID\n",
    "#\n",
    "# * See how different funding models performed\n",
    "# * See how microeconomic analysis brought about performance at local level\n",
    "# * See how funding models were arrived at\n",
    "#\n",
    "\n",
    "import csv\n",
    "import numpy as np\n",
    "import bokeh\n",
    "import pandas as pd"
   ]
  },
  {
   "cell_type": "code",
   "execution_count": null,
   "metadata": {},
   "outputs": [],
   "source": []
  }
 ],
 "metadata": {
  "kernelspec": {
   "display_name": "Python 3",
   "language": "python",
   "name": "python3"
  },
  "language_info": {
   "codemirror_mode": {
    "name": "ipython",
    "version": 3
   },
   "file_extension": ".py",
   "mimetype": "text/x-python",
   "name": "python",
   "nbconvert_exporter": "python",
   "pygments_lexer": "ipython3",
   "version": "3.7.7"
  }
 },
 "nbformat": 4,
 "nbformat_minor": 4
}
